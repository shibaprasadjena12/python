{
 "cells": [
  {
   "cell_type": "code",
   "execution_count": 7,
   "id": "5e938d19-ce0d-4c49-8e70-6091698d21ec",
   "metadata": {},
   "outputs": [
    {
     "name": "stdout",
     "output_type": "stream",
     "text": [
      "Q1\n"
     ]
    },
    {
     "data": {
      "text/plain": [
       "'\\nTO comment on a single line code, we can use # before any statement\\nFor multiple line comment, we can enclose our comment inside pair of three single quotes\\nwithin this, we can \\nwrite multiline comments\\n'"
      ]
     },
     "execution_count": 7,
     "metadata": {},
     "output_type": "execute_result"
    }
   ],
   "source": [
    "print(\"Q1\")\n",
    "'''\n",
    "TO comment on a single line code, we can use # before any statement\n",
    "For multiple-line comments, we can enclose our comment inside a pair of three single quotes\n",
    "within this, we can \n",
    "write multiline comments\n",
    "'''\n",
    "\n",
    "                                                                    "
   ]
  },
  {
   "cell_type": "code",
   "execution_count": 8,
   "id": "46e2ad03-1544-41dc-ae9f-b6bf7a193e00",
   "metadata": {},
   "outputs": [
    {
     "name": "stdout",
     "output_type": "stream",
     "text": [
      "Q2\n",
      "203\n"
     ]
    }
   ],
   "source": [
    "print(\"Q2\")\n",
    "# Variables in python is just a reference of a memory location which can be used to store some values during program execution\n",
    "# We can declare and assign value to a variable using following syntax\n",
    "\n",
    "myVariable = 203\n",
    "\n",
    "# myVariable is the cariable name and 203 is the value we have assigned to the variable.\n",
    "\n",
    "print (myVariable)"
   ]
  },
  {
   "cell_type": "code",
   "execution_count": 11,
   "id": "ea592370-9158-48ef-851b-c914f890664d",
   "metadata": {},
   "outputs": [
    {
     "name": "stdout",
     "output_type": "stream",
     "text": [
      "<class 'str'>\n",
      "<class 'int'>\n"
     ]
    }
   ],
   "source": [
    "# Q3 - Convert one datatype to another\n",
    "\n",
    "myString = \"203\"\n",
    "print(type(myString))\n",
    "myInt = int(myString)\n",
    "print(type(myInt))\n"
   ]
  },
  {
   "cell_type": "code",
   "execution_count": 12,
   "id": "9e652f9a-a0c4-4ed6-bda5-1783398c2843",
   "metadata": {},
   "outputs": [],
   "source": [
    "# Q4 - How do you write and execute a Python script from the command line?\n",
    "# We can write our python script in a simple text file and save that text file with '.py' and execute that script using following command\n",
    "# python filename.py"
   ]
  },
  {
   "cell_type": "code",
   "execution_count": 13,
   "id": "2ed4a86e-b95a-4a95-b23d-dde7beea6610",
   "metadata": {},
   "outputs": [
    {
     "data": {
      "text/plain": [
       "[2, 3]"
      ]
     },
     "execution_count": 13,
     "metadata": {},
     "output_type": "execute_result"
    }
   ],
   "source": [
    "# Q5. Given a list my_list = [1, 2, 3, 4, 5], write the code to slice the list and obtain the sub-list [2, 3].\n",
    "my_list = [1, 2, 3, 4, 5]\n",
    "my_list[1:3]"
   ]
  },
  {
   "cell_type": "code",
   "execution_count": 14,
   "id": "53165493-5218-4e7e-b252-f7658e97b9ef",
   "metadata": {},
   "outputs": [
    {
     "data": {
      "text/plain": [
       "complex"
      ]
     },
     "execution_count": 14,
     "metadata": {},
     "output_type": "execute_result"
    }
   ],
   "source": [
    "# Q6. What is a complex number in mathematics, and how is it represented in Python?\n",
    "# Complex number is a combination of real and imaginary number \n",
    "# An example of a complex number is (2 + 4i)\n",
    "# where 2 is the real part and 4i is the imaginary part\n",
    "# where i = sqrt(-1)\n",
    "# In Python it can be represented as follows\n",
    "\n",
    "myComplex = 5 + 6j         # here j represnts sqrt(-1)\n",
    "\n",
    "type(myComplex)\n"
   ]
  },
  {
   "cell_type": "code",
   "execution_count": 15,
   "id": "de3dc35f-6ccb-4d65-8f3d-129e9260f05a",
   "metadata": {},
   "outputs": [
    {
     "data": {
      "text/plain": [
       "25"
      ]
     },
     "execution_count": 15,
     "metadata": {},
     "output_type": "execute_result"
    }
   ],
   "source": [
    "# Q7. What is the correct way to declare a variable named age and assign the value 25 to it?\n",
    "age = 25\n",
    "age"
   ]
  },
  {
   "cell_type": "code",
   "execution_count": 16,
   "id": "f7bd3637-43bd-469f-a485-03d3fecc8c2e",
   "metadata": {},
   "outputs": [
    {
     "data": {
      "text/plain": [
       "float"
      ]
     },
     "execution_count": 16,
     "metadata": {},
     "output_type": "execute_result"
    }
   ],
   "source": [
    "# Q8. Declare a variable named price and assign the value 9.99 to it. What data type does this variable belong to?\n",
    "price = 9.99\n",
    "type(price)    # float"
   ]
  },
  {
   "cell_type": "code",
   "execution_count": 17,
   "id": "6bfce781-442f-4e96-a901-aeb8d158c0b5",
   "metadata": {},
   "outputs": [
    {
     "name": "stdout",
     "output_type": "stream",
     "text": [
      "Shibaprasad Jena\n"
     ]
    }
   ],
   "source": [
    "# Q9. Create a variable named name and assign your full name to it as a string. How would you print the value of this variable?\n",
    "\n",
    "name  = \"Shibaprasad Jena\"\n",
    "print(name)"
   ]
  },
  {
   "cell_type": "code",
   "execution_count": 18,
   "id": "01102a16-098b-4f0e-bfd4-0908d919dea8",
   "metadata": {},
   "outputs": [
    {
     "data": {
      "text/plain": [
       "'World'"
      ]
     },
     "execution_count": 18,
     "metadata": {},
     "output_type": "execute_result"
    }
   ],
   "source": [
    "# Q10. Given the string \"Hello, World!\", extract the substring \"World\"\n",
    "myString = \"Hello, World!\"\n",
    "myString[7:12]"
   ]
  },
  {
   "cell_type": "code",
   "execution_count": 20,
   "id": "1d22ac2f-f236-433a-a761-d1caa36c2367",
   "metadata": {},
   "outputs": [
    {
     "data": {
      "text/plain": [
       "True"
      ]
     },
     "execution_count": 20,
     "metadata": {},
     "output_type": "execute_result"
    }
   ],
   "source": [
    "# Q11. Create a variable named \"is_student\" and assign it a boolean value indicating whether you are currently a student or not.\n",
    "\n",
    "is_student = True          # Yes I am a student now and I will be a student forever\n",
    "is_student"
   ]
  },
  {
   "cell_type": "code",
   "execution_count": null,
   "id": "4bb4f688-5b93-442f-b6cd-717643f5cd03",
   "metadata": {},
   "outputs": [],
   "source": []
  }
 ],
 "metadata": {
  "kernelspec": {
   "display_name": "Python 3 (ipykernel)",
   "language": "python",
   "name": "python3"
  },
  "language_info": {
   "codemirror_mode": {
    "name": "ipython",
    "version": 3
   },
   "file_extension": ".py",
   "mimetype": "text/x-python",
   "name": "python",
   "nbconvert_exporter": "python",
   "pygments_lexer": "ipython3",
   "version": "3.12.7"
  }
 },
 "nbformat": 4,
 "nbformat_minor": 5
}
