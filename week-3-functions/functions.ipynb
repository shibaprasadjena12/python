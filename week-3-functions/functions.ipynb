{
 "cells": [
  {
   "cell_type": "code",
   "execution_count": 10,
   "id": "262494c0-6e53-4a1f-860a-59d2fb02fed9",
   "metadata": {},
   "outputs": [
    {
     "name": "stdout",
     "output_type": "stream",
     "text": [
      "Palindrome\n"
     ]
    },
    {
     "data": {
      "text/plain": [
       "'Palindrome'"
      ]
     },
     "execution_count": 10,
     "metadata": {},
     "output_type": "execute_result"
    }
   ],
   "source": [
    "# Q8. Write a python program to check whether a given number is Palindrome or not using a while loop.\n",
    "# using while loop  O(log n)\n",
    "mynum = 123454321\n",
    "orig = mynum\n",
    "revised = 0\n",
    "while(orig > 0):\n",
    "    digit = orig % 10\n",
    "    revised = revised * 10 + digit\n",
    "    orig = orig // 10\n",
    "\n",
    "if mynum == revised:\n",
    "    print(\"Palindrome\")\n",
    "else:\n",
    "    print(\"Non Palindrome\")\n",
    "    \n",
    "# without using while O(log n)\n",
    "\n",
    "def isPalindrome(num2):\n",
    "    mystr = str(num2)\n",
    "    mystr2 = mystr[::-1]\n",
    "    if mystr2 == mystr:\n",
    "        return \"Palindrome\"\n",
    "    else:\n",
    "        return \"not palindrome\"\n",
    "\n",
    "isPalindrome(121)"
   ]
  },
  {
   "cell_type": "code",
   "execution_count": 1,
   "id": "cc73bf88-1f2c-49a4-9d0a-e33e1246310f",
   "metadata": {},
   "outputs": [
    {
     "name": "stdout",
     "output_type": "stream",
     "text": [
      "7 14\n",
      "14 7\n"
     ]
    }
   ],
   "source": [
    "myl = [11, 7, 14, 25]\n",
    "target = 21\n",
    "\n",
    "for i in myl:\n",
    "    for j in range(len(myl)):\n",
    "        if i + myl[j] == target:\n",
    "            print(i, myl[j])\n",
    "            exit()"
   ]
  },
  {
   "cell_type": "code",
   "execution_count": 3,
   "id": "d2d6df0d-f321-428c-adcf-c7f25ef52dc8",
   "metadata": {},
   "outputs": [
    {
     "data": {
      "text/plain": [
       "[1,\n",
       " 3,\n",
       " 5,\n",
       " 7,\n",
       " 9,\n",
       " 11,\n",
       " 13,\n",
       " 15,\n",
       " 17,\n",
       " 19,\n",
       " 21,\n",
       " 23,\n",
       " 25,\n",
       " 27,\n",
       " 29,\n",
       " 31,\n",
       " 33,\n",
       " 35,\n",
       " 37,\n",
       " 39,\n",
       " 41,\n",
       " 43,\n",
       " 45,\n",
       " 47,\n",
       " 49,\n",
       " 51,\n",
       " 53,\n",
       " 55,\n",
       " 57,\n",
       " 59,\n",
       " 61,\n",
       " 63,\n",
       " 65,\n",
       " 67,\n",
       " 69,\n",
       " 71,\n",
       " 73,\n",
       " 75,\n",
       " 77,\n",
       " 79,\n",
       " 81,\n",
       " 83,\n",
       " 85,\n",
       " 87,\n",
       " 89,\n",
       " 91,\n",
       " 93,\n",
       " 95,\n",
       " 97,\n",
       " 99]"
      ]
     },
     "execution_count": 3,
     "metadata": {},
     "output_type": "execute_result"
    }
   ],
   "source": [
    "# Q9. Write a code to print odd numbers from 1 to 100 using list comprehension.\n",
    "myl1 = [x for x in range(101)]\n",
    "myl2 = list(filter(lambda x: x%2 != 0 , myl1))\n",
    "myl2"
   ]
  },
  {
   "cell_type": "code",
   "execution_count": null,
   "id": "89ded416-9801-48cb-9248-aeced64b5fac",
   "metadata": {},
   "outputs": [],
   "source": []
  },
  {
   "cell_type": "code",
   "execution_count": null,
   "id": "2d55da49-10e4-4d59-b518-22722be969c3",
   "metadata": {},
   "outputs": [],
   "source": []
  },
  {
   "cell_type": "code",
   "execution_count": null,
   "id": "7ae46da6-b81f-484e-8044-42a0b9305fd5",
   "metadata": {},
   "outputs": [],
   "source": []
  },
  {
   "cell_type": "code",
   "execution_count": null,
   "id": "4e2e2e5d-0e99-4d08-b3b6-d1dc1c00f8de",
   "metadata": {},
   "outputs": [],
   "source": []
  },
  {
   "cell_type": "code",
   "execution_count": null,
   "id": "306658ff-a547-4edd-8daf-88b0ba552330",
   "metadata": {},
   "outputs": [],
   "source": []
  },
  {
   "cell_type": "code",
   "execution_count": null,
   "id": "8bde0099-723e-4fa8-9aeb-cf587a802e63",
   "metadata": {},
   "outputs": [],
   "source": []
  },
  {
   "cell_type": "code",
   "execution_count": null,
   "id": "35d88d7b-5bed-4891-ba46-887b95c30fb6",
   "metadata": {},
   "outputs": [],
   "source": []
  },
  {
   "cell_type": "code",
   "execution_count": null,
   "id": "ee0ed9d7-eff1-48a2-981e-8bcf05d64bf5",
   "metadata": {},
   "outputs": [],
   "source": []
  },
  {
   "cell_type": "code",
   "execution_count": null,
   "id": "bcacc9df-d844-458d-87d0-a01eeaa332dc",
   "metadata": {},
   "outputs": [],
   "source": []
  },
  {
   "cell_type": "code",
   "execution_count": null,
   "id": "a711763f-4f5a-4497-bbff-f837dab24173",
   "metadata": {},
   "outputs": [],
   "source": []
  },
  {
   "cell_type": "code",
   "execution_count": null,
   "id": "e75adbb2-15c6-4f2f-ae20-b5363cf0d1a9",
   "metadata": {},
   "outputs": [],
   "source": []
  },
  {
   "cell_type": "code",
   "execution_count": null,
   "id": "955bad8b-875b-409b-8b05-17dfcf6f69b9",
   "metadata": {},
   "outputs": [],
   "source": []
  },
  {
   "cell_type": "code",
   "execution_count": null,
   "id": "41f4cc32-b4bf-484c-aa6f-9f6f402a354a",
   "metadata": {},
   "outputs": [],
   "source": []
  },
  {
   "cell_type": "code",
   "execution_count": null,
   "id": "df57f1e4-aa4b-4775-bdf9-b7b34506b24e",
   "metadata": {},
   "outputs": [],
   "source": []
  }
 ],
 "metadata": {
  "kernelspec": {
   "display_name": "Python 3 (ipykernel)",
   "language": "python",
   "name": "python3"
  },
  "language_info": {
   "codemirror_mode": {
    "name": "ipython",
    "version": 3
   },
   "file_extension": ".py",
   "mimetype": "text/x-python",
   "name": "python",
   "nbconvert_exporter": "python",
   "pygments_lexer": "ipython3",
   "version": "3.12.7"
  }
 },
 "nbformat": 4,
 "nbformat_minor": 5
}
